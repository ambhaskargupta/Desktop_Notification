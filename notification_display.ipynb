{
 "cells": [
  {
   "cell_type": "code",
   "execution_count": null,
   "id": "cdccd51d",
   "metadata": {},
   "outputs": [],
   "source": [
    "\n",
    "import pymysql\n",
    "from plyer import notification\n",
    "from datetime import datetime\n",
    "import time\n",
    "\n",
    "\n",
    "def fetch_data():\n",
    "        con = pymysql.connect(host='localhost',user='root',password='',database='capstone')\n",
    "        cur = con.cursor()\n",
    "        query = \"SELECT * FROM notification ORDER BY date , time\"\n",
    "        cur.execute(query)\n",
    "        result = list(cur.fetchall())\n",
    "        con.close()\n",
    "        return result\n",
    "\n",
    "    \n",
    "def display_notification(result):\n",
    "        current_datetime = datetime.now()\n",
    "        current_date = current_datetime.strftime(\"%Y-%m-%d\")\n",
    "        current_time = current_datetime.strftime(\"%H:%M:%S\")\n",
    "        \n",
    "        for row in result:\n",
    "            date_db = row[0]\n",
    "            time_db = row[1]\n",
    "            tittle_db = row[2]\n",
    "            message_db = row[3]\n",
    "            \n",
    "            if current_date==str(date_db) and current_time==str(time_db):\n",
    "                notification.notify(\n",
    "                                    title = tittle_db,\n",
    "                                    message = message_db,\n",
    "                                    app_name = \"Capstone\",\n",
    "                                    app_icon = \"C:/Users/bhask/Downloads/noti_icon1.ico\",\n",
    "                                    timeout=10\n",
    "                                    )\n",
    "\n",
    "        \n",
    "while True:\n",
    "    data = fetch_data()\n",
    "    display_notification(data)\n",
    "    time.sleep(1)\n",
    "\n"
   ]
  },
  {
   "cell_type": "code",
   "execution_count": null,
   "id": "370eb14e",
   "metadata": {},
   "outputs": [],
   "source": []
  },
  {
   "cell_type": "code",
   "execution_count": null,
   "id": "6224dbf3",
   "metadata": {},
   "outputs": [],
   "source": []
  },
  {
   "cell_type": "code",
   "execution_count": null,
   "id": "54f0929e",
   "metadata": {},
   "outputs": [],
   "source": []
  },
  {
   "cell_type": "code",
   "execution_count": null,
   "id": "682f53c7",
   "metadata": {},
   "outputs": [],
   "source": []
  },
  {
   "cell_type": "code",
   "execution_count": null,
   "id": "13caf486",
   "metadata": {},
   "outputs": [],
   "source": []
  }
 ],
 "metadata": {
  "kernelspec": {
   "display_name": "Python 3 (ipykernel)",
   "language": "python",
   "name": "python3"
  },
  "language_info": {
   "codemirror_mode": {
    "name": "ipython",
    "version": 3
   },
   "file_extension": ".py",
   "mimetype": "text/x-python",
   "name": "python",
   "nbconvert_exporter": "python",
   "pygments_lexer": "ipython3",
   "version": "3.11.5"
  }
 },
 "nbformat": 4,
 "nbformat_minor": 5
}
